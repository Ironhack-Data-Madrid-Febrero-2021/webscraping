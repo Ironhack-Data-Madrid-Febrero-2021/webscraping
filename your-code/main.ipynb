{
 "cells": [
  {
   "cell_type": "markdown",
   "metadata": {},
   "source": [
    "# Web Scraping Lab\n",
    "\n",
    "You will find in this notebook some scrapy exercises to practise your scraping skills.\n",
    "\n",
    "**Tips:**\n",
    "\n",
    "- Check the response status code for each request to ensure you have obtained the intended contennt.\n",
    "- Print the response text in each request to understand the kind of info you are getting and its format.\n",
    "- Check for patterns in the response text to extract the data/info requested in each question.\n",
    "- Visit each url and take a look at its source through Chrome DevTools. You'll need to identify the html tags, special class names etc. used for the html content you are expected to extract."
   ]
  },
  {
   "cell_type": "markdown",
   "metadata": {},
   "source": [
    "- [Requests library](http://docs.python-requests.org/en/master/#the-user-guide) documentation \n",
    "- [Beautiful Soup Doc](https://www.crummy.com/software/BeautifulSoup/bs4/doc/)\n",
    "- [Urllib](https://docs.python.org/3/library/urllib.html#module-urllib)\n",
    "- [re lib](https://docs.python.org/3/library/re.html)\n",
    "- [lxml lib](https://lxml.de/)\n",
    "- [Scrapy](https://scrapy.org/)\n",
    "- [List of HTTP status codes](https://en.wikipedia.org/wiki/List_of_HTTP_status_codes)\n",
    "- [HTML basics](http://www.simplehtmlguide.com/cheatsheet.php)\n",
    "- [CSS basics](https://www.cssbasics.com/#page_start)"
   ]
  },
  {
   "cell_type": "markdown",
   "metadata": {},
   "source": [
    "#### Below are the libraries and modules you may need. `requests`,  `BeautifulSoup` and `pandas` are imported for you. If you prefer to use additional libraries feel free to uncomment them."
   ]
  },
  {
   "cell_type": "code",
   "execution_count": 3,
   "metadata": {},
   "outputs": [],
   "source": [
    "import requests\n",
    "from bs4 import BeautifulSoup\n",
    "import pandas as pd\n",
    "# from pprint import pprint\n",
    "# from lxml import html\n",
    "# from lxml.html import fromstring\n",
    "# import urllib.request\n",
    "from urllib.request import urlopen\n",
    "# import random\n",
    "import re\n",
    "# import scrapy"
   ]
  },
  {
   "cell_type": "markdown",
   "metadata": {},
   "source": [
    "#### Download, parse (using BeautifulSoup), and print the content from the Trending Developers page from GitHub:"
   ]
  },
  {
   "cell_type": "code",
   "execution_count": 45,
   "metadata": {},
   "outputs": [],
   "source": [
    "# This is the url you will scrape in this exercise\n",
    "url = 'https://github.com/trending/developers'"
   ]
  },
  {
   "cell_type": "code",
   "execution_count": 46,
   "metadata": {},
   "outputs": [],
   "source": [
    "#your code\n",
    "response = requests.get(url)"
   ]
  },
  {
   "cell_type": "code",
   "execution_count": 47,
   "metadata": {},
   "outputs": [],
   "source": [
    "soup = BeautifulSoup(response.content, \"html.parser\")"
   ]
  },
  {
   "cell_type": "markdown",
   "metadata": {},
   "source": [
    "#### Display the names of the trending developers retrieved in the previous step.\n",
    "\n",
    "Your output should be a Python list of developer names. Each name should not contain any html tag.\n",
    "\n",
    "**Instructions:**\n",
    "\n",
    "1. Find out the html tag and class names used for the developer names. You can achieve this using Chrome DevTools.\n",
    "\n",
    "1. Use BeautifulSoup to extract all the html elements that contain the developer names.\n",
    "\n",
    "1. Use string manipulation techniques to replace whitespaces and linebreaks (i.e. `\\n`) in the *text* of each html element. Use a list to store the clean names.\n",
    "\n",
    "1. Print the list of names.\n",
    "\n",
    "Your output should look like below:\n",
    "\n",
    "```\n",
    "['trimstray (@trimstray)',\n",
    " 'joewalnes (JoeWalnes)',\n",
    " 'charlax (Charles-AxelDein)',\n",
    " 'ForrestKnight (ForrestKnight)',\n",
    " 'revery-ui (revery-ui)',\n",
    " 'alibaba (Alibaba)',\n",
    " 'Microsoft (Microsoft)',\n",
    " 'github (GitHub)',\n",
    " 'facebook (Facebook)',\n",
    " 'boazsegev (Bo)',\n",
    " 'google (Google)',\n",
    " 'cloudfetch',\n",
    " 'sindresorhus (SindreSorhus)',\n",
    " 'tensorflow',\n",
    " 'apache (TheApacheSoftwareFoundation)',\n",
    " 'DevonCrawford (DevonCrawford)',\n",
    " 'ARMmbed (ArmMbed)',\n",
    " 'vuejs (vuejs)',\n",
    " 'fastai (fast.ai)',\n",
    " 'QiShaoXuan (Qi)',\n",
    " 'joelparkerhenderson (JoelParkerHenderson)',\n",
    " 'torvalds (LinusTorvalds)',\n",
    " 'CyC2018',\n",
    " 'komeiji-satori (神楽坂覚々)',\n",
    " 'script-8']\n",
    " ```"
   ]
  },
  {
   "cell_type": "code",
   "execution_count": 60,
   "metadata": {},
   "outputs": [],
   "source": [
    "names = soup.select('.col-md-6')"
   ]
  },
  {
   "cell_type": "code",
   "execution_count": 61,
   "metadata": {},
   "outputs": [
    {
     "data": {
      "text/plain": [
       "'Jonny Burger\\n \\n\\n\\n              JonnyBurger'"
      ]
     },
     "execution_count": 61,
     "metadata": {},
     "output_type": "execute_result"
    }
   ],
   "source": [
    "names[0].text.strip()"
   ]
  },
  {
   "cell_type": "code",
   "execution_count": 66,
   "metadata": {},
   "outputs": [
    {
     "data": {
      "text/plain": [
       "'Jonny Burger'"
      ]
     },
     "execution_count": 66,
     "metadata": {},
     "output_type": "execute_result"
    }
   ],
   "source": [
    "names[0].select(\"a\")[0].text.strip()"
   ]
  },
  {
   "cell_type": "code",
   "execution_count": 67,
   "metadata": {},
   "outputs": [
    {
     "data": {
      "text/plain": [
       "'JonnyBurger'"
      ]
     },
     "execution_count": 67,
     "metadata": {},
     "output_type": "execute_result"
    }
   ],
   "source": [
    "names[0].select(\"a\")[1].text.strip()"
   ]
  },
  {
   "cell_type": "code",
   "execution_count": 71,
   "metadata": {},
   "outputs": [
    {
     "data": {
      "text/plain": [
       "'Jonny Burger (@JonnyBurger)'"
      ]
     },
     "execution_count": 71,
     "metadata": {},
     "output_type": "execute_result"
    }
   ],
   "source": [
    "names[0].select(\"a\")[0].text.strip() + ' (@'+ names[0].select(\"a\")[1].text.strip()+')'"
   ]
  },
  {
   "cell_type": "code",
   "execution_count": 72,
   "metadata": {},
   "outputs": [],
   "source": [
    "def developers(names):\n",
    "    return names.select(\"a\")[0].text.strip() + ' (@'+ names.select(\"a\")[1].text.strip()+')'\n",
    "developers_list = []"
   ]
  },
  {
   "cell_type": "code",
   "execution_count": 74,
   "metadata": {},
   "outputs": [],
   "source": [
    "for i in range(0, len(names), 2):\n",
    "    developers_list.append(developers(names[i]))"
   ]
  },
  {
   "cell_type": "code",
   "execution_count": 75,
   "metadata": {},
   "outputs": [
    {
     "data": {
      "text/plain": [
       "['Jonny Burger (@JonnyBurger)',\n",
       " 'Brandon (@bee-san)',\n",
       " 'Lennart (@LekoArts)',\n",
       " 'Artur Arseniev (@artf)',\n",
       " 'Remi Rousselet (@rrousselGit)',\n",
       " 'Jeroen Ooms (@jeroen)',\n",
       " 'Artem Zakharchenko (@kettanaito)',\n",
       " 'Kuitos (@kuitos)',\n",
       " '二货机器人 (@zombieJ)',\n",
       " 'Emiliano Heyns (@retorquere)',\n",
       " 'shimat (@shimat)',\n",
       " 'Kristoffer Carlsson (@KristofferC)',\n",
       " 'Jérôme Laban (@jeromelaban)',\n",
       " 'Jonathan Dick (@Redth)',\n",
       " 'Dane Mackier (@FilledStacks)',\n",
       " 'Ariel Mashraki (@a8m)',\n",
       " 'Felix Angelov (@felangel)',\n",
       " 'Rikki Schulte (@acao)',\n",
       " 'David Rodríguez (@deivid-rodriguez)',\n",
       " 'David Tolnay (@dtolnay)',\n",
       " 'Jason Quense (@jquense)',\n",
       " 'Nathan Rajlich (@TooTallNate)',\n",
       " '陈帅 (@chenshuai2144)',\n",
       " 'Arvid Norberg (@arvidn)',\n",
       " 'David Anthoff (@davidanthoff)']"
      ]
     },
     "execution_count": 75,
     "metadata": {},
     "output_type": "execute_result"
    }
   ],
   "source": [
    "developers_list"
   ]
  },
  {
   "cell_type": "markdown",
   "metadata": {},
   "source": [
    "#### Display the trending Python repositories in GitHub\n",
    "\n",
    "The steps to solve this problem is similar to the previous one except that you need to find out the repository names instead of developer names."
   ]
  },
  {
   "cell_type": "code",
   "execution_count": 17,
   "metadata": {},
   "outputs": [],
   "source": [
    "# This is the url you will scrape in this exercise\n",
    "url_1 = 'https://github.com/trending/python?since=daily'"
   ]
  },
  {
   "cell_type": "code",
   "execution_count": 18,
   "metadata": {},
   "outputs": [],
   "source": [
    "#your code\n",
    "response1 = requests.get(url_1)"
   ]
  },
  {
   "cell_type": "code",
   "execution_count": 19,
   "metadata": {},
   "outputs": [],
   "source": [
    "soup1 = BeautifulSoup(response1.content, \"html.parser\")"
   ]
  },
  {
   "cell_type": "code",
   "execution_count": 21,
   "metadata": {},
   "outputs": [],
   "source": [
    "repo_names_tags = soup1.find_all(\n",
    "    name=\"h1\", \n",
    "    class_=\"h3 lh-condensed\"\n",
    ")"
   ]
  },
  {
   "cell_type": "code",
   "execution_count": 22,
   "metadata": {},
   "outputs": [
    {
     "data": {
      "text/plain": [
       "<h1 class=\"h3 lh-condensed\">\n",
       "<a data-hydro-click='{\"event_type\":\"explore.click\",\"payload\":{\"click_context\":\"TRENDING_REPOSITORIES_PAGE\",\"click_target\":\"REPOSITORY\",\"click_visual_representation\":\"REPOSITORY_NAME_HEADING\",\"actor_id\":null,\"record_id\":368438798,\"originating_url\":\"https://github.com/trending/python?since=daily\",\"user_id\":null}}' data-hydro-click-hmac=\"ad037645f9e9b244d97f6d9b9ec0a30f413f57e86e667d43c4376e808cf40942\" data-view-component=\"true\" href=\"/chip-red-pill/uCodeDisasm\">\n",
       "<svg aria-hidden=\"true\" class=\"octicon octicon-repo mr-1 color-text-secondary\" data-view-component=\"true\" height=\"16\" version=\"1.1\" viewbox=\"0 0 16 16\" width=\"16\">\n",
       "<path d=\"M2 2.5A2.5 2.5 0 014.5 0h8.75a.75.75 0 01.75.75v12.5a.75.75 0 01-.75.75h-2.5a.75.75 0 110-1.5h1.75v-2h-8a1 1 0 00-.714 1.7.75.75 0 01-1.072 1.05A2.495 2.495 0 012 11.5v-9zm10.5-1V9h-8c-.356 0-.694.074-1 .208V2.5a1 1 0 011-1h8zM5 12.25v3.25a.25.25 0 00.4.2l1.45-1.087a.25.25 0 01.3 0L8.6 15.7a.25.25 0 00.4-.2v-3.25a.25.25 0 00-.25-.25h-3.5a.25.25 0 00-.25.25z\" fill-rule=\"evenodd\"></path>\n",
       "</svg>\n",
       "<span class=\"text-normal\" data-view-component=\"true\">\n",
       "        chip-red-pill /\n",
       "</span>\n",
       "      uCodeDisasm\n",
       "</a> </h1>"
      ]
     },
     "execution_count": 22,
     "metadata": {},
     "output_type": "execute_result"
    }
   ],
   "source": [
    "repo_names_tags[0]"
   ]
  },
  {
   "cell_type": "code",
   "execution_count": 24,
   "metadata": {},
   "outputs": [
    {
     "data": {
      "text/plain": [
       "'\\n\\n\\n\\n\\n\\n        chip-red-pill /\\n\\n      uCodeDisasm\\n '"
      ]
     },
     "execution_count": 24,
     "metadata": {},
     "output_type": "execute_result"
    }
   ],
   "source": [
    "repo_names_tags[0].text"
   ]
  },
  {
   "cell_type": "code",
   "execution_count": 25,
   "metadata": {},
   "outputs": [
    {
     "data": {
      "text/plain": [
       "['\\n\\n\\n\\n\\n\\n        chip-red-pill /\\n\\n      uCodeDisasm\\n ',\n",
       " '\\n\\n\\n\\n\\n\\n        rbignon /\\n\\n      doctoshotgun\\n ']"
      ]
     },
     "execution_count": 25,
     "metadata": {},
     "output_type": "execute_result"
    }
   ],
   "source": [
    "repos = [repo.text for repo in repo_names_tags]\n",
    "repos[:2]"
   ]
  },
  {
   "cell_type": "code",
   "execution_count": 26,
   "metadata": {},
   "outputs": [
    {
     "data": {
      "text/plain": [
       "['chip-red-pill/uCodeDisasm',\n",
       " 'rbignon/doctoshotgun',\n",
       " 'yuval-alaluf/restyle-encoder',\n",
       " 'TheAlgorithms/Python',\n",
       " 'rwightman/pytorch-image-models']"
      ]
     },
     "execution_count": 26,
     "metadata": {},
     "output_type": "execute_result"
    }
   ],
   "source": [
    "repos_f=[]\n",
    "for repo in repos:\n",
    "    repos_f.append(repo.replace(\"\\n\",\"\").replace(\" \",\"\"))\n",
    "repos_f[:5]"
   ]
  },
  {
   "cell_type": "markdown",
   "metadata": {},
   "source": [
    "#### Display all the image links from Walt Disney wikipedia page"
   ]
  },
  {
   "cell_type": "code",
   "execution_count": 27,
   "metadata": {},
   "outputs": [],
   "source": [
    "# This is the url you will scrape in this exercise\n",
    "url2 = 'https://en.wikipedia.org/wiki/Walt_Disney'"
   ]
  },
  {
   "cell_type": "code",
   "execution_count": 28,
   "metadata": {},
   "outputs": [],
   "source": [
    "#your code\n",
    "response2 = requests.get(url2)"
   ]
  },
  {
   "cell_type": "code",
   "execution_count": 39,
   "metadata": {},
   "outputs": [],
   "source": [
    "soup2 = BeautifulSoup(response2.content)"
   ]
  },
  {
   "cell_type": "code",
   "execution_count": 40,
   "metadata": {},
   "outputs": [],
   "source": [
    "img_tags = soup2.find_all(\"img\")"
   ]
  },
  {
   "cell_type": "code",
   "execution_count": 41,
   "metadata": {},
   "outputs": [
    {
     "data": {
      "text/plain": [
       "'//upload.wikimedia.org/wikipedia/en/thumb/e/e7/Cscr-featured.svg/20px-Cscr-featured.svg.png'"
      ]
     },
     "execution_count": 41,
     "metadata": {},
     "output_type": "execute_result"
    }
   ],
   "source": [
    "img_tags[0].get(\"src\")"
   ]
  },
  {
   "cell_type": "code",
   "execution_count": 42,
   "metadata": {},
   "outputs": [
    {
     "data": {
      "text/plain": [
       "['//upload.wikimedia.org/wikipedia/en/thumb/e/e7/Cscr-featured.svg/20px-Cscr-featured.svg.png',\n",
       " '//upload.wikimedia.org/wikipedia/en/thumb/8/8c/Extended-protection-shackle.svg/20px-Extended-protection-shackle.svg.png']"
      ]
     },
     "execution_count": 42,
     "metadata": {},
     "output_type": "execute_result"
    }
   ],
   "source": [
    "enlaces = [tag.attrs[\"src\"] for tag in img_tags]\n",
    "enlaces[0:2]"
   ]
  },
  {
   "cell_type": "markdown",
   "metadata": {},
   "source": [
    "#### Retrieve an arbitary Wikipedia page of \"Python\" and create a list of links on that page"
   ]
  },
  {
   "cell_type": "code",
   "execution_count": null,
   "metadata": {},
   "outputs": [],
   "source": [
    "# This is the url you will scrape in this exercise\n",
    "url ='https://en.wikipedia.org/wiki/Python' "
   ]
  },
  {
   "cell_type": "code",
   "execution_count": 121,
   "metadata": {},
   "outputs": [],
   "source": [
    "#your code\n",
    "response = requests.get(url)"
   ]
  },
  {
   "cell_type": "code",
   "execution_count": 122,
   "metadata": {},
   "outputs": [],
   "source": [
    "soup = BeautifulSoup(response.content)"
   ]
  },
  {
   "cell_type": "code",
   "execution_count": 124,
   "metadata": {},
   "outputs": [],
   "source": [
    "python_link_tags = soup.find_all(\n",
    "    name=\"div\", \n",
    "    class_=\"mw-body-content\"\n",
    ")"
   ]
  },
  {
   "cell_type": "code",
   "execution_count": 125,
   "metadata": {},
   "outputs": [
    {
     "data": {
      "text/plain": [
       "'\\n\\n\\n\\n\\n\\n\\n\\n\\n\\n\\n\\n\\nEarthquakes today | Earthquake today | earthquake | earthquakes\\n\\n\\n\\n\\n\\n\\n\\n\\n\\n\\n\\n\\n\\n\\n\\n\\n\\nCurrent time: 2021-05-20 19:27:06 UTC\\n\\n\\n\\n\\xa0Member access\\n\\nName\\xa0\\n\\n\\nPwd\\n\\n\\n\\xa0\\n\\n\\n\\nEarthquake information\\n\\nList of latest earthquakes\\nSignificant earthquakes\\nSearch earthquakes\\nEarthquakes interactive map\\nEarthquakes near you\\nFelt earthquakes\\nSpecial reports\\nHow it works\\n\\n\\n  Testimonies, photos\\n\\nPhotos\\nTestimonies\\n\\n\\nInformation services\\n\\n LastQuakers community (NEW)\\n For smartphones\\n Android & iOS App\\n Browser extensions\\n Webservices\\n RSS feeds\\n Seismicity on Google Earth\\n Email notification service\\n\\n\\nFor seismologists\\n\\nLatest data contributions\\nMoment tensors\\nEuro-Med bulletin\\nSeismic Portal\\nNews\\nJobs\\n\\n\\nProjects\\n\\nARISTOTLE\\nCARISMAND\\nIMPROVER\\nSeismic portal\\nCitizen seismology\\nQuake Catcher Network\\nSigma\\nVerce\\nMARsite\\nNERA\\nEPOS\\nREAKT\\n\\n\\nPublications & docs\\n\\nYou are here : \\nEMSC >\\xa0Earthquake >\\xa0Real Time Seismicity\\r\\n\\t\\tOur sponsors:\\xa0\\r\\n\\t\\tdigitalelement\\n\\xa0\\xa0\\xa0\\xa0About EMSC\\n\\n\\n\\n\\n\\ntempDisclaimer\\nReal Time Seismicity\\nDefine your criteria to find specific events  -  Quick search: \\r\\n\\t mag≥3  |  mag≥4  |  mag≥5 \\n\\n \\n\\xa0- Sorting by column is performed on the data of the current page.Glossary\\n\\n\\n\\nCitizenResponseDate & Time UTCLatitude degreesLongitude degreesDepth kmMag  [+]Region name  [+]Last update [-]\\n\\n12345678910\\x9b»earthquake2021-05-20\\xa0\\xa0\\xa018:42:33.344min ago19.20\\xa0N\\xa0\\xa0155.42\\xa0W\\xa0\\xa036Md2.0\\xa0ISLAND OF HAWAII, HAWAII2021-05-20 18:45\\nearthquake2021-05-20\\xa0\\xa0\\xa018:36:39.950min ago37.16\\xa0N\\xa0\\xa03.62\\xa0W\\xa0\\xa010ML1.5\\xa0SPAIN2021-05-20 19:00\\nearthquake2021-05-20\\xa0\\xa0\\xa018:29:16.957min ago19.24\\xa0N\\xa0\\xa0155.41\\xa0W\\xa0\\xa031Ml2.2\\xa0ISLAND OF HAWAII, HAWAII2021-05-20 18:34\\n1Fearthquake2021-05-20\\xa0\\xa0\\xa018:27:53.259min ago22.21\\xa0S\\xa0\\xa068.41\\xa0W\\xa0\\xa0100Mw5.2\\xa0ANTOFAGASTA, CHILE2021-05-20 19:19\\nearthquake2021-05-20\\xa0\\xa0\\xa018:19:00.41hr 08min ago9.93\\xa0S\\xa0\\xa0161.31\\xa0E\\xa0\\xa080mb5.0\\xa0SOLOMON ISLANDS2021-05-20 19:05\\nearthquake2021-05-20\\xa0\\xa0\\xa018:14:45.01hr 12min ago20.62\\xa0N\\xa0\\xa072.95\\xa0W\\xa0\\xa031 M3.0\\xa0HAITI REGION2021-05-20 18:55\\nearthquake2021-05-20\\xa0\\xa0\\xa017:56:12.01hr 30min ago35.20\\xa0N\\xa0\\xa023.08\\xa0E\\xa0\\xa021ML2.9\\xa0CRETE, GREECE2021-05-20 18:08\\nearthquake2021-05-20\\xa0\\xa0\\xa017:52:58.01hr 34min ago42.37\\xa0N\\xa0\\xa02.06\\xa0E\\xa0\\xa06ML1.6\\xa0PYRENEES2021-05-20 18:47\\nearthquake2021-05-20\\xa0\\xa0\\xa017:44:58.91hr 42min ago42.13\\xa0N\\xa0\\xa07.49\\xa0W\\xa0\\xa010ML1.6\\xa0SPAIN2021-05-20 18:42\\nearthquake2021-05-20\\xa0\\xa0\\xa017:39:21.61hr 47min ago34.30\\xa0N\\xa0\\xa096.83\\xa0W\\xa0\\xa01ML2.2\\xa0OKLAHOMA2021-05-20 17:41\\nearthquake2021-05-20\\xa0\\xa0\\xa017:33:34.41hr 53min ago19.24\\xa0N\\xa0\\xa0155.40\\xa0W\\xa0\\xa031Ml2.1\\xa0ISLAND OF HAWAII, HAWAII2021-05-20 17:39\\nearthquake2021-05-20\\xa0\\xa0\\xa017:19:38.12hr 07min ago19.21\\xa0N\\xa0\\xa0155.42\\xa0W\\xa0\\xa034Ml2.3\\xa0ISLAND OF HAWAII, HAWAII2021-05-20 17:25\\nearthquake2021-05-20\\xa0\\xa0\\xa017:16:03.82hr 11min ago22.09\\xa0S\\xa0\\xa0109.55\\xa0E\\xa0\\xa010ML3.4\\xa0WEST OF AUSTRALIA2021-05-20 17:34\\nearthquake2021-05-20\\xa0\\xa0\\xa017:15:45.72hr 11min ago6.33\\xa0S\\xa0\\xa0151.21\\xa0E\\xa0\\xa057mb4.8\\xa0NEW BRITAIN REGION, P.N.G.2021-05-20 18:11\\nearthquake2021-05-20\\xa0\\xa0\\xa017:05:50.02hr 21min ago18.92\\xa0N\\xa0\\xa070.14\\xa0W\\xa0\\xa09 M2.5\\xa0DOMINICAN REPUBLIC2021-05-20 18:35\\nearthquake2021-05-20\\xa0\\xa0\\xa017:05:18.92hr 21min ago41.01\\xa0S\\xa0\\xa044.26\\xa0E\\xa0\\xa012Mw5.5\\xa0CROZET ISLANDS REGION2021-05-20 19:15\\nearthquake2021-05-20\\xa0\\xa0\\xa017:04:51.42hr 22min ago19.22\\xa0N\\xa0\\xa0155.42\\xa0W\\xa0\\xa034Ml2.5\\xa0ISLAND OF HAWAII, HAWAII2021-05-20 17:10\\nFearthquake2021-05-20\\xa0\\xa0\\xa017:00:50.02hr 26min ago10.25\\xa0N\\xa0\\xa0126.27\\xa0E\\xa0\\xa017 M4.0\\xa0PHILIPPINE ISLANDS REGION2021-05-20 17:20\\nearthquake2021-05-20\\xa0\\xa0\\xa016:59:28.02hr 27min ago59.24\\xa0N\\xa0\\xa053.68\\xa0W\\xa0\\xa018 M4.7\\xa0LABRADOR SEA2021-05-20 18:01\\nearthquake2021-05-20\\xa0\\xa0\\xa016:55:28.12hr 31min ago34.96\\xa0N\\xa0\\xa024.20\\xa0E\\xa0\\xa020ML3.2\\xa0CRETE, GREECE2021-05-20 18:39\\nearthquake2021-05-20\\xa0\\xa0\\xa016:51:33.62hr 35min ago19.24\\xa0N\\xa0\\xa0155.40\\xa0W\\xa0\\xa032Ml2.5\\xa0ISLAND OF HAWAII, HAWAII2021-05-20 16:57\\nearthquake2021-05-20\\xa0\\xa0\\xa016:45:45.92hr 41min ago31.67\\xa0N\\xa0\\xa0104.43\\xa0W\\xa0\\xa05ML2.8\\xa0WESTERN TEXAS2021-05-20 17:41\\nearthquake2021-05-20\\xa0\\xa0\\xa016:44:38.02hr 42min ago46.08\\xa0N\\xa0\\xa014.64\\xa0E\\xa0\\xa016ML1.7\\xa0SLOVENIA2021-05-20 16:47\\nearthquake2021-05-20\\xa0\\xa0\\xa016:37:49.12hr 49min ago36.72\\xa0N\\xa0\\xa04.60\\xa0W\\xa0\\xa030M 2.9\\xa0STRAIT OF GIBRALTAR2021-05-20 17:16\\n1Fearthquake2021-05-20\\xa0\\xa0\\xa016:37:36.32hr 49min ago36.65\\xa0N\\xa0\\xa028.93\\xa0E\\xa0\\xa020ML2.9\\xa0DODECANESE IS.-TURKEY BORDER REG2021-05-20 17:01\\nearthquake2021-05-20\\xa0\\xa0\\xa016:37:04.82hr 50min ago19.22\\xa0N\\xa0\\xa0155.42\\xa0W\\xa0\\xa035Md2.4\\xa0ISLAND OF HAWAII, HAWAII2021-05-20 16:40\\nearthquake2021-05-20\\xa0\\xa0\\xa016:24:49.73hr 02min ago18.43\\xa0N\\xa0\\xa0155.35\\xa0W\\xa0\\xa016Md2.7\\xa0HAWAII REGION, HAWAII2021-05-20 16:29\\nearthquake2021-05-20\\xa0\\xa0\\xa015:59:03.63hr 28min ago41.30\\xa0N\\xa0\\xa00.94\\xa0W\\xa0\\xa06ML1.7\\xa0SPAIN2021-05-20 16:35\\nearthquake2021-05-20\\xa0\\xa0\\xa015:42:42.23hr 44min ago42.13\\xa0N\\xa0\\xa07.48\\xa0W\\xa0\\xa03ML1.9\\xa0SPAIN2021-05-20 15:50\\nearthquake2021-05-20\\xa0\\xa0\\xa015:27:11.13hr 59min ago7.44\\xa0S\\xa0\\xa0128.64\\xa0E\\xa0\\xa0174mb4.8\\xa0KEPULAUAN BARAT DAYA, INDONESIA2021-05-20 16:10\\nearthquake2021-05-20\\xa0\\xa0\\xa015:23:25.34hr 03min ago40.90\\xa0N\\xa0\\xa033.94\\xa0E\\xa0\\xa07ML2.0\\xa0CENTRAL TURKEY2021-05-20 16:26\\nearthquake2021-05-20\\xa0\\xa0\\xa015:22:30.04hr 04min ago39.12\\xa0N\\xa0\\xa028.11\\xa0E\\xa0\\xa07ML2.9\\xa0WESTERN TURKEY2021-05-20 15:37\\nearthquake2021-05-20\\xa0\\xa0\\xa015:13:44.04hr 13min ago31.95\\xa0S\\xa0\\xa071.10\\xa0W\\xa0\\xa055ML2.9\\xa0COQUIMBO, CHILE2021-05-20 15:28\\nearthquake2021-05-20\\xa0\\xa0\\xa015:00:31.24hr 26min ago42.13\\xa0N\\xa0\\xa07.49\\xa0W\\xa0\\xa05ML1.9\\xa0SPAIN2021-05-20 15:47\\nearthquake2021-05-20\\xa0\\xa0\\xa014:57:35.04hr 29min ago3.72\\xa0S\\xa0\\xa0127.42\\xa0E\\xa0\\xa010 M3.5\\xa0SERAM, INDONESIA2021-05-20 15:05\\nearthquake2021-05-20\\xa0\\xa0\\xa014:49:12.64hr 37min ago19.15\\xa0N\\xa0\\xa068.38\\xa0W\\xa0\\xa037Md3.3\\xa0DOMINICAN REPUBLIC REGION2021-05-20 16:21\\nearthquake2021-05-20\\xa0\\xa0\\xa014:21:19.05hr 05min ago43.69\\xa0N\\xa0\\xa081.15\\xa0E\\xa0\\xa011mb4.4\\xa0NORTHERN XINJIANG, CHINA2021-05-20 15:01\\nearthquake2021-05-20\\xa0\\xa0\\xa013:59:23.05hr 27min ago31.13\\xa0S\\xa0\\xa069.61\\xa0W\\xa0\\xa0262 M3.3\\xa0SAN JUAN, ARGENTINA2021-05-20 14:06\\nearthquake2021-05-20\\xa0\\xa0\\xa013:57:53.15hr 29min ago38.28\\xa0N\\xa0\\xa038.69\\xa0E\\xa0\\xa07ML2.3\\xa0EASTERN TURKEY2021-05-20 14:08\\n1Fearthquake2021-05-20\\xa0\\xa0\\xa013:08:29.06hr 18min ago37.90\\xa0N\\xa0\\xa027.14\\xa0E\\xa0\\xa07ML2.7\\xa0WESTERN TURKEY2021-05-20 14:54\\nearthquake2021-05-20\\xa0\\xa0\\xa012:36:23.06hr 50min ago1.48\\xa0S\\xa0\\xa0120.12\\xa0E\\xa0\\xa010 M2.5\\xa0SULAWESI, INDONESIA2021-05-20 12:40\\nearthquake2021-05-20\\xa0\\xa0\\xa012:30:27.76hr 56min ago19.48\\xa0N\\xa0\\xa0155.26\\xa0W\\xa0\\xa00Ml2.3\\xa0ISLAND OF HAWAII, HAWAII2021-05-20 12:36\\nearthquake2021-05-20\\xa0\\xa0\\xa012:18:22.97hr 08min ago46.41\\xa0N\\xa0\\xa08.54\\xa0E\\xa0\\xa08ML1.3\\xa0SWITZERLAND2021-05-20 12:22\\nearthquake2021-05-20\\xa0\\xa0\\xa012:13:21.17hr 13min ago37.45\\xa0N\\xa0\\xa037.28\\xa0E\\xa0\\xa05ML2.1\\xa0CENTRAL TURKEY2021-05-20 12:33\\nearthquake2021-05-20\\xa0\\xa0\\xa012:10:28.27hr 16min ago19.84\\xa0N\\xa0\\xa0155.86\\xa0W\\xa0\\xa04Ml2.2\\xa0ISLAND OF HAWAII, HAWAII2021-05-20 12:16\\nearthquake2021-05-20\\xa0\\xa0\\xa012:06:08.07hr 20min ago8.84\\xa0S\\xa0\\xa0110.21\\xa0E\\xa0\\xa010 M3.2\\xa0JAVA, INDONESIA2021-05-20 12:15\\nearthquake2021-05-20\\xa0\\xa0\\xa011:36:27.57hr 50min ago34.01\\xa0N\\xa0\\xa05.41\\xa0W\\xa0\\xa027ML2.6\\xa0MOROCCO2021-05-20 13:16\\nearthquake2021-05-20\\xa0\\xa0\\xa011:35:44.07hr 51min ago2.20\\xa0N\\xa0\\xa097.79\\xa0E\\xa0\\xa028 M3.4\\xa0NORTHERN SUMATRA, INDONESIA2021-05-20 11:50\\nearthquake2021-05-20\\xa0\\xa0\\xa011:35:12.67hr 51min ago46.40\\xa0N\\xa0\\xa08.54\\xa0E\\xa0\\xa06ML2.0\\xa0SWITZERLAND2021-05-20 12:27\\nearthquake2021-05-20\\xa0\\xa0\\xa011:29:55.17hr 57min ago15.91\\xa0N\\xa0\\xa094.53\\xa0W\\xa0\\xa062mb4.3\\xa0OFFSHORE OAXACA, MEXICO2021-05-20 11:42\\n 12345678910\\x9b»Bold : Earthquakes with a magnitude ≥ 4.5 in Euro-med, or ≥ 5.5 in the world Red : Earthquakes with a magnitude ≥ 5 in Euro-med, or ≥ 6 in the world Disclaimer\\xa0\\n\\n\\n\\n\\nFAQ\\xa0\\xa0\\xa0About EMSC\\r\\n\\xa0\\xa0\\xa0\\xa0\\xa0\\xa0\\xa0\\xa0\\xa0\\xa0\\xa0\\xa0\\xa0\\xa0\\xa0\\xa0\\xa0\\xa0\\xa0\\xa0\\xa0\\xa0\\xa0\\xa0\\r\\nSite Map\\xa0\\xa0\\xa0Search\\nMedia : \\xa0\\xa0\\xa0\\xa0\\xa0\\xa0\\xa0\\xa0\\xa0\\xa0\\nCompatibility : \\n© 2010 - Privacy\\n\\n\\n\\n\\n\\n\\n\\n\\n \\n\\n'"
      ]
     },
     "execution_count": 125,
     "metadata": {},
     "output_type": "execute_result"
    }
   ],
   "source": [
    "text_soup = soup.get_text()\n",
    "text_soup"
   ]
  },
  {
   "cell_type": "code",
   "execution_count": null,
   "metadata": {},
   "outputs": [],
   "source": []
  },
  {
   "cell_type": "markdown",
   "metadata": {},
   "source": [
    "#### Number of Titles that have changed in the United States Code since its last release point "
   ]
  },
  {
   "cell_type": "code",
   "execution_count": 43,
   "metadata": {},
   "outputs": [],
   "source": [
    "# This is the url you will scrape in this exercise\n",
    "url4 = 'http://uscode.house.gov/download/download.shtml'"
   ]
  },
  {
   "cell_type": "code",
   "execution_count": 44,
   "metadata": {},
   "outputs": [],
   "source": [
    "#your code\n",
    "response4 = requests.get(url4)"
   ]
  },
  {
   "cell_type": "code",
   "execution_count": 46,
   "metadata": {},
   "outputs": [],
   "source": [
    "soup4 = BeautifulSoup(response4.content)"
   ]
  },
  {
   "cell_type": "code",
   "execution_count": 48,
   "metadata": {},
   "outputs": [],
   "source": [
    "changed_code_tags = soup4.find_all(\n",
    "    name=\"div\", \n",
    "    class_=\"usctitlechanged\"\n",
    ")"
   ]
  },
  {
   "cell_type": "code",
   "execution_count": 49,
   "metadata": {},
   "outputs": [
    {
     "data": {
      "text/plain": [
       "['\\n\\n          Title 10 - Armed Forces ٭\\n']"
      ]
     },
     "execution_count": 49,
     "metadata": {},
     "output_type": "execute_result"
    }
   ],
   "source": [
    "changed_code_text = [name.text for name in changed_code_tags]\n",
    "changed_code_text"
   ]
  },
  {
   "cell_type": "code",
   "execution_count": 52,
   "metadata": {},
   "outputs": [
    {
     "data": {
      "text/plain": [
       "['          Title 10 - Armed Forces ٭']"
      ]
     },
     "execution_count": 52,
     "metadata": {},
     "output_type": "execute_result"
    }
   ],
   "source": [
    "changed_code_list=[]\n",
    "for name in changed_code_text:\n",
    "    changed_code_list.append(name.replace(\"\\n\",\"\"))\n",
    "changed_code_list"
   ]
  },
  {
   "cell_type": "code",
   "execution_count": 51,
   "metadata": {},
   "outputs": [
    {
     "data": {
      "text/plain": [
       "['Title 10 - Armed Forces ٭']"
      ]
     },
     "execution_count": 51,
     "metadata": {},
     "output_type": "execute_result"
    }
   ],
   "source": [
    "[name.strip() for name in changed_code_list]"
   ]
  },
  {
   "cell_type": "markdown",
   "metadata": {},
   "source": [
    "####  20 latest earthquakes info (date, time, latitude, longitude and region name) by the EMSC as a pandas dataframe"
   ]
  },
  {
   "cell_type": "code",
   "execution_count": 92,
   "metadata": {},
   "outputs": [],
   "source": [
    "# This is the url you will scrape in this exercise\n",
    "url = 'https://www.emsc-csem.org/Earthquake/'\n"
   ]
  },
  {
   "cell_type": "code",
   "execution_count": 93,
   "metadata": {},
   "outputs": [],
   "source": [
    "response = requests.get(url)"
   ]
  },
  {
   "cell_type": "code",
   "execution_count": 94,
   "metadata": {},
   "outputs": [],
   "source": [
    "soup = BeautifulSoup(response.content)"
   ]
  },
  {
   "cell_type": "code",
   "execution_count": 95,
   "metadata": {},
   "outputs": [],
   "source": [
    "tablas = soup.find_all(\"table\")"
   ]
  },
  {
   "cell_type": "code",
   "execution_count": 96,
   "metadata": {},
   "outputs": [
    {
     "data": {
      "text/plain": [
       "5"
      ]
     },
     "execution_count": 96,
     "metadata": {},
     "output_type": "execute_result"
    }
   ],
   "source": [
    "len(tablas)\n"
   ]
  },
  {
   "cell_type": "code",
   "execution_count": 99,
   "metadata": {},
   "outputs": [],
   "source": [
    "tabla = tablas[1]"
   ]
  },
  {
   "cell_type": "code",
   "execution_count": 101,
   "metadata": {},
   "outputs": [
    {
     "data": {
      "text/plain": [
       "[]"
      ]
     },
     "execution_count": 101,
     "metadata": {},
     "output_type": "execute_result"
    }
   ],
   "source": [
    "latitud = tabla.find_all(\"tabev1\")\n",
    "latitud"
   ]
  },
  {
   "cell_type": "markdown",
   "metadata": {},
   "source": [
    "#### Display the date, days, title, city, country of next 25 hackathon events as a Pandas dataframe table"
   ]
  },
  {
   "cell_type": "code",
   "execution_count": null,
   "metadata": {},
   "outputs": [],
   "source": [
    "# This is the url you will scrape in this exercise\n",
    "url ='https://hackevents.co/hackathons'\n",
    "url_hack = 'https://hackevents.co/search/anything/anywhere/anytime' "
   ]
  },
  {
   "cell_type": "code",
   "execution_count": null,
   "metadata": {},
   "outputs": [],
   "source": [
    "#your code\n"
   ]
  },
  {
   "cell_type": "code",
   "execution_count": null,
   "metadata": {},
   "outputs": [],
   "source": []
  },
  {
   "cell_type": "markdown",
   "metadata": {},
   "source": [
    "#### List all language names and number of related articles in the order they appear in wikipedia.org"
   ]
  },
  {
   "cell_type": "code",
   "execution_count": 88,
   "metadata": {},
   "outputs": [],
   "source": [
    "# This is the url you will scrape in this exercise\n",
    "url = 'https://www.wikipedia.org/'"
   ]
  },
  {
   "cell_type": "code",
   "execution_count": 89,
   "metadata": {},
   "outputs": [],
   "source": [
    "#your code\n",
    "response = requests.get(url)"
   ]
  },
  {
   "cell_type": "code",
   "execution_count": 90,
   "metadata": {},
   "outputs": [],
   "source": [
    "soup = BeautifulSoup(response.content)"
   ]
  },
  {
   "cell_type": "code",
   "execution_count": 96,
   "metadata": {},
   "outputs": [],
   "source": [
    "languages_number_tags = soup.find_all(\n",
    "    name=\"div\", \n",
    "    class_=\"central-featured-lang\",\n",
    ")"
   ]
  },
  {
   "cell_type": "code",
   "execution_count": 103,
   "metadata": {},
   "outputs": [
    {
     "data": {
      "text/plain": [
       "<div class=\"central-featured-lang lang3\" dir=\"ltr\" lang=\"es\">\n",
       "<a class=\"link-box\" data-slogan=\"La enciclopedia libre\" href=\"//es.wikipedia.org/\" id=\"js-link-box-es\" title=\"Español — Wikipedia — La enciclopedia libre\">\n",
       "<strong>Español</strong>\n",
       "<small><bdi dir=\"ltr\">1 684 000+</bdi> <span>artículos</span></small>\n",
       "</a>\n",
       "</div>"
      ]
     },
     "execution_count": 103,
     "metadata": {},
     "output_type": "execute_result"
    }
   ],
   "source": [
    "languages_number_tags[2]"
   ]
  },
  {
   "cell_type": "markdown",
   "metadata": {},
   "source": [
    "#### A list with the different kind of datasets available in data.gov.uk "
   ]
  },
  {
   "cell_type": "code",
   "execution_count": 65,
   "metadata": {},
   "outputs": [],
   "source": [
    "# This is the url you will scrape in this exercise\n",
    "url = 'https://data.gov.uk/'"
   ]
  },
  {
   "cell_type": "code",
   "execution_count": 66,
   "metadata": {},
   "outputs": [],
   "source": [
    "#your code \n",
    "response = requests.get(url)"
   ]
  },
  {
   "cell_type": "code",
   "execution_count": 68,
   "metadata": {},
   "outputs": [],
   "source": [
    "soup8 = BeautifulSoup(response.content)"
   ]
  },
  {
   "cell_type": "code",
   "execution_count": 69,
   "metadata": {},
   "outputs": [],
   "source": [
    "database_tags = soup8.find_all(\n",
    "    name=\"a\", \n",
    "    class_=\"govuk-link\"\n",
    ")"
   ]
  },
  {
   "cell_type": "code",
   "execution_count": 70,
   "metadata": {},
   "outputs": [
    {
     "data": {
      "text/plain": [
       "[<a class=\"govuk-link\" href=\"/cookies\">cookies to collect information</a>,\n",
       " <a class=\"govuk-link\" href=\"/cookies\">View cookies</a>,\n",
       " <a class=\"govuk-link\" data-module=\"gem-track-click\" data-track-action=\"Cookie banner settings clicked from confirmation\" data-track-category=\"cookieBanner\" href=\"/cookies\">change your cookie settings</a>,\n",
       " <a class=\"govuk-link\" href=\"http://www.smartsurvey.co.uk/s/3SEXD/\">feedback</a>,\n",
       " <a class=\"govuk-link\" href=\"/search?filters%5Btopic%5D=Business+and+economy\">Business and economy</a>,\n",
       " <a class=\"govuk-link\" href=\"/search?filters%5Btopic%5D=Crime+and+justice\">Crime and justice</a>,\n",
       " <a class=\"govuk-link\" href=\"/search?filters%5Btopic%5D=Defence\">Defence</a>,\n",
       " <a class=\"govuk-link\" href=\"/search?filters%5Btopic%5D=Education\">Education</a>,\n",
       " <a class=\"govuk-link\" href=\"/search?filters%5Btopic%5D=Environment\">Environment</a>,\n",
       " <a class=\"govuk-link\" href=\"/search?filters%5Btopic%5D=Government\">Government</a>,\n",
       " <a class=\"govuk-link\" href=\"/search?filters%5Btopic%5D=Government+spending\">Government spending</a>,\n",
       " <a class=\"govuk-link\" href=\"/search?filters%5Btopic%5D=Health\">Health</a>,\n",
       " <a class=\"govuk-link\" href=\"/search?filters%5Btopic%5D=Mapping\">Mapping</a>,\n",
       " <a class=\"govuk-link\" href=\"/search?filters%5Btopic%5D=Society\">Society</a>,\n",
       " <a class=\"govuk-link\" href=\"/search?filters%5Btopic%5D=Towns+and+cities\">Towns and cities</a>,\n",
       " <a class=\"govuk-link\" href=\"/search?filters%5Btopic%5D=Transport\">Transport</a>,\n",
       " <a class=\"govuk-link\" href=\"/search?filters%5Btopic%5D=Digital+service+performance\">Digital service performance</a>,\n",
       " <a class=\"govuk-link\" href=\"/search?filters%5Btopic%5D=Government+reference+data\">Government reference data</a>]"
      ]
     },
     "execution_count": 70,
     "metadata": {},
     "output_type": "execute_result"
    }
   ],
   "source": [
    "database_tags"
   ]
  },
  {
   "cell_type": "code",
   "execution_count": 71,
   "metadata": {},
   "outputs": [
    {
     "data": {
      "text/plain": [
       "['cookies to collect information',\n",
       " 'View cookies',\n",
       " 'change your cookie settings']"
      ]
     },
     "execution_count": 71,
     "metadata": {},
     "output_type": "execute_result"
    }
   ],
   "source": [
    "database_names = [name.text for name in database_tags]\n",
    "database_names[:3]"
   ]
  },
  {
   "cell_type": "markdown",
   "metadata": {},
   "source": [
    "#### Top 10 languages by number of native speakers stored in a Pandas Dataframe"
   ]
  },
  {
   "cell_type": "code",
   "execution_count": null,
   "metadata": {},
   "outputs": [],
   "source": [
    "# This is the url you will scrape in this exercise\n",
    "url = 'https://en.wikipedia.org/wiki/List_of_languages_by_number_of_native_speakers'"
   ]
  },
  {
   "cell_type": "code",
   "execution_count": 74,
   "metadata": {},
   "outputs": [],
   "source": [
    "#your code\n"
   ]
  },
  {
   "cell_type": "code",
   "execution_count": 75,
   "metadata": {},
   "outputs": [],
   "source": []
  },
  {
   "cell_type": "markdown",
   "metadata": {},
   "source": [
    "### BONUS QUESTIONS"
   ]
  },
  {
   "cell_type": "markdown",
   "metadata": {},
   "source": [
    "#### IMDB's Top 250 data (movie name, Initial release, director name and stars) as a pandas dataframe"
   ]
  },
  {
   "cell_type": "code",
   "execution_count": null,
   "metadata": {},
   "outputs": [],
   "source": [
    "# This is the url you will scrape in this exercise \n",
    "url = 'https://www.imdb.com/chart/top'"
   ]
  },
  {
   "cell_type": "code",
   "execution_count": null,
   "metadata": {},
   "outputs": [],
   "source": [
    "# your code\n"
   ]
  },
  {
   "cell_type": "code",
   "execution_count": null,
   "metadata": {},
   "outputs": [],
   "source": []
  },
  {
   "cell_type": "code",
   "execution_count": null,
   "metadata": {},
   "outputs": [],
   "source": []
  }
 ],
 "metadata": {
  "kernelspec": {
   "display_name": "Python 3",
   "language": "python",
   "name": "python3"
  },
  "language_info": {
   "codemirror_mode": {
    "name": "ipython",
    "version": 3
   },
   "file_extension": ".py",
   "mimetype": "text/x-python",
   "name": "python",
   "nbconvert_exporter": "python",
   "pygments_lexer": "ipython3",
   "version": "3.8.5"
  },
  "toc": {
   "base_numbering": 1,
   "nav_menu": {},
   "number_sections": false,
   "sideBar": true,
   "skip_h1_title": false,
   "title_cell": "Table of Contents",
   "title_sidebar": "Contents",
   "toc_cell": false,
   "toc_position": {
    "height": "calc(100% - 180px)",
    "left": "10px",
    "top": "150px",
    "width": "288px"
   },
   "toc_section_display": true,
   "toc_window_display": false
  }
 },
 "nbformat": 4,
 "nbformat_minor": 2
}
