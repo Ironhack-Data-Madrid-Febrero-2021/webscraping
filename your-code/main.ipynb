{
 "cells": [
  {
   "cell_type": "markdown",
   "metadata": {},
   "source": [
    "# Web Scraping Lab\n",
    "\n",
    "You will find in this notebook some scrapy exercises to practise your scraping skills.\n",
    "\n",
    "**Tips:**\n",
    "\n",
    "- Check the response status code for each request to ensure you have obtained the intended contennt.\n",
    "- Print the response text in each request to understand the kind of info you are getting and its format.\n",
    "- Check for patterns in the response text to extract the data/info requested in each question.\n",
    "- Visit each url and take a look at its source through Chrome DevTools. You'll need to identify the html tags, special class names etc. used for the html content you are expected to extract."
   ]
  },
  {
   "cell_type": "markdown",
   "metadata": {},
   "source": [
    "- [Requests library](http://docs.python-requests.org/en/master/#the-user-guide) documentation \n",
    "- [Beautiful Soup Doc](https://www.crummy.com/software/BeautifulSoup/bs4/doc/)\n",
    "- [Urllib](https://docs.python.org/3/library/urllib.html#module-urllib)\n",
    "- [re lib](https://docs.python.org/3/library/re.html)\n",
    "- [lxml lib](https://lxml.de/)\n",
    "- [Scrapy](https://scrapy.org/)\n",
    "- [List of HTTP status codes](https://en.wikipedia.org/wiki/List_of_HTTP_status_codes)\n",
    "- [HTML basics](http://www.simplehtmlguide.com/cheatsheet.php)\n",
    "- [CSS basics](https://www.cssbasics.com/#page_start)"
   ]
  },
  {
   "cell_type": "markdown",
   "metadata": {},
   "source": [
    "#### Below are the libraries and modules you may need. `requests`,  `BeautifulSoup` and `pandas` are imported for you. If you prefer to use additional libraries feel free to uncomment them."
   ]
  },
  {
   "cell_type": "code",
   "execution_count": 1,
   "metadata": {},
   "outputs": [],
   "source": [
    "import requests\n",
    "from bs4 import BeautifulSoup\n",
    "import pandas as pd\n",
    "# from pprint import pprint\n",
    "# from lxml import html\n",
    "# from lxml.html import fromstring\n",
    "# import urllib.request\n",
    "from urllib.request import urlopen\n",
    "# import random\n",
    "import re\n",
    "# import scrapy"
   ]
  },
  {
   "cell_type": "markdown",
   "metadata": {},
   "source": [
    "#### Download, parse (using BeautifulSoup), and print the content from the Trending Developers page from GitHub:"
   ]
  },
  {
   "cell_type": "code",
   "execution_count": 2,
   "metadata": {},
   "outputs": [],
   "source": [
    "# This is the url you will scrape in this exercise\n",
    "url = 'https://github.com/trending/developers'"
   ]
  },
  {
   "cell_type": "code",
   "execution_count": 3,
   "metadata": {},
   "outputs": [],
   "source": [
    "#your code\n",
    "html = requests.get(url)\n",
    "soup = BeautifulSoup(html.content, 'html.parser')\n"
   ]
  },
  {
   "cell_type": "markdown",
   "metadata": {},
   "source": [
    "#### Display the names of the trending developers retrieved in the previous step.\n",
    "\n",
    "Your output should be a Python list of developer names. Each name should not contain any html tag.\n",
    "\n",
    "**Instructions:**\n",
    "\n",
    "1. Find out the html tag and class names used for the developer names. You can achieve this using Chrome DevTools.\n",
    "\n",
    "1. Use BeautifulSoup to extract all the html elements that contain the developer names.\n",
    "\n",
    "1. Use string manipulation techniques to replace whitespaces and linebreaks (i.e. `\\n`) in the *text* of each html element. Use a list to store the clean names.\n",
    "\n",
    "1. Print the list of names.\n",
    "\n",
    "Your output should look like below:\n",
    "\n",
    "```\n",
    "['trimstray (@trimstray)',\n",
    " 'joewalnes (JoeWalnes)',\n",
    " 'charlax (Charles-AxelDein)',\n",
    " 'ForrestKnight (ForrestKnight)',\n",
    " 'revery-ui (revery-ui)',\n",
    " 'alibaba (Alibaba)',\n",
    " 'Microsoft (Microsoft)',\n",
    " 'github (GitHub)',\n",
    " 'facebook (Facebook)',\n",
    " 'boazsegev (Bo)',\n",
    " 'google (Google)',\n",
    " 'cloudfetch',\n",
    " 'sindresorhus (SindreSorhus)',\n",
    " 'tensorflow',\n",
    " 'apache (TheApacheSoftwareFoundation)',\n",
    " 'DevonCrawford (DevonCrawford)',\n",
    " 'ARMmbed (ArmMbed)',\n",
    " 'vuejs (vuejs)',\n",
    " 'fastai (fast.ai)',\n",
    " 'QiShaoXuan (Qi)',\n",
    " 'joelparkerhenderson (JoelParkerHenderson)',\n",
    " 'torvalds (LinusTorvalds)',\n",
    " 'CyC2018',\n",
    " 'komeiji-satori (神楽坂覚々)',\n",
    " 'script-8']\n",
    " ```"
   ]
  },
  {
   "cell_type": "code",
   "execution_count": 9,
   "metadata": {},
   "outputs": [
    {
     "name": "stdout",
     "output_type": "stream",
     "text": [
      "['MichaIng', 'Brandon', 'Arvid Norberg', 'Adrienne Walker', 'Artem Zakharchenko', 'Ben Johnson', 'Jonny Burger', 'David Khourshid', 'andig', 'Sebastian Pipping', 'Sam Sam', 'Andrew Gallant', 'Kévin Dunglas', 'Vincent Prouillet', 'Joshua Wise', 'Jaime Blasco', 'Nelson Elhage', 'Joe Previte', 'Adam Bieńkowski', 'Jbee', 'Franck Nijhof', 'lsvih', 'Eldad A. Fux', 'Christopher Rackauckas', 'Nicolas P. Rougier']\n",
      "['bee-san', 'arvidn', 'quisquous', 'kettanaito', 'benbjohnson', 'JonnyBurger', 'davidkpiano', 'andig', 'hartwork', 'sksamuel', 'BurntSushi', 'dunglas', 'Keats', 'JoshuaWise', 'jamesblasco', 'nelhage', 'jsjoeio', 'donadigo', 'JaeYeopHan', 'frenck', 'eldadfux', 'ChrisRackauckas', 'rougier']\n",
      "25\n",
      "23\n"
     ]
    }
   ],
   "source": [
    "# Getting names and saving them into a variable nombres_\n",
    "nombres = soup.find_all('h1',{'class': 'h3 lh-condensed'})\n",
    "nombres_ = []\n",
    "for nombre in nombres:\n",
    "    nombres_.append(nombre.getText().strip())\n",
    "\n",
    "# Getting users and saving them into a variable nombres_\n",
    "users_ = []\n",
    "users = soup.find_all('p', {'class': 'f4 text-normal mb-1'})\n",
    "for user in users:\n",
    "    users_.append(user.getText().strip())\n",
    "    \n",
    "print(nombres_)\n",
    "print(users_)\n",
    "print(len(nombres_))\n",
    "print(len(users_))\n",
    "\n",
    "if len(users_) == len(nombres_):\n",
    "    df = pd.DataFrame({'Rank': list(range(1,26)),'Name': nombres_,'Username': users_ })\n",
    "    df.set_index('Rank')\n",
    "    print(df)\n",
    "# Create dataframe with name and usernames\n",
    "\n"
   ]
  },
  {
   "cell_type": "markdown",
   "metadata": {},
   "source": [
    "#### Display the trending Python repositories in GitHub\n",
    "\n",
    "The steps to solve this problem is similar to the previous one except that you need to find out the repository names instead of developer names."
   ]
  },
  {
   "cell_type": "code",
   "execution_count": 10,
   "metadata": {},
   "outputs": [],
   "source": [
    "# This is the url you will scrape in this exercise\n",
    "url = 'https://github.com/trending/python?since=daily'"
   ]
  },
  {
   "cell_type": "code",
   "execution_count": 11,
   "metadata": {},
   "outputs": [
    {
     "data": {
      "text/plain": [
       "['donnemartin : system-design-primer',\n",
       " 'CyberPunkMetalHead : Binance-volatility-trading-bot',\n",
       " 'pytorch : fairseq',\n",
       " 'geekcomputers : Python',\n",
       " 'home-assistant : core',\n",
       " 'willmcgugan : rich',\n",
       " 'mementum : backtrader',\n",
       " 'edeng23 : binance-trade-bot',\n",
       " 'iamnotturner : vaccipy',\n",
       " 'y1ndan : genshinhelper',\n",
       " 'ayushi7rawat : Ultimate-Python-Resource-Hub',\n",
       " 'pallupz : covid-vaccine-booking',\n",
       " 'ankitects : anki',\n",
       " 'curtinlv : JD-Script',\n",
       " 'scikit-learn : scikit-learn',\n",
       " 'synesthesiam : voice2json',\n",
       " 'bitcoinbook : bitcoinbook',\n",
       " 'public-apis : public-apis',\n",
       " 'Rog3rSm1th : Profil3r',\n",
       " '9emin1 : charlotte',\n",
       " 'Chia-Network : chia-blockchain',\n",
       " 'Ganapati : RsaCtfTool',\n",
       " 'TeamUltroid : Ultroid',\n",
       " 'gto76 : python-cheatsheet',\n",
       " 'xuebinqin : U-2-Net']"
      ]
     },
     "execution_count": 11,
     "metadata": {},
     "output_type": "execute_result"
    }
   ],
   "source": [
    "#your code\n",
    "html = requests.get(url)\n",
    "soup = BeautifulSoup(html.content, 'html.parser')\n",
    "\n",
    "repos = soup.find_all('h1',{'h3 lh-condensed'})\n",
    "\n",
    "\n",
    "repos_ = []\n",
    "for r in repos:\n",
    "    repos_.append(r.getText().strip())\n",
    "\n",
    "final = [rep.replace(' /\\n\\n      ',' : ') for rep in repos_]\n",
    "final"
   ]
  },
  {
   "cell_type": "markdown",
   "metadata": {},
   "source": [
    "#### Display all the image links from Walt Disney wikipedia page"
   ]
  },
  {
   "cell_type": "code",
   "execution_count": 12,
   "metadata": {},
   "outputs": [],
   "source": [
    "# This is the url you will scrape in this exercise\n",
    "url = 'https://en.wikipedia.org/wiki/Walt_Disney'"
   ]
  },
  {
   "cell_type": "code",
   "execution_count": 13,
   "metadata": {},
   "outputs": [
    {
     "data": {
      "text/plain": [
       "['https://en.wikipedia.org/wiki/File:Walt_Disney_1946.JPG',\n",
       " 'https://en.wikipedia.org/wiki/File:Walt_Disney_1942_signature.svg',\n",
       " 'https://en.wikipedia.org/wiki/File:Walt_Disney_envelope_ca._1921.jpg',\n",
       " 'https://en.wikipedia.org/wiki/File:Trolley_Troubles_poster.jpg',\n",
       " 'https://en.wikipedia.org/wiki/File:Steamboat-willie.jpg',\n",
       " 'https://en.wikipedia.org/wiki/File:Walt_Disney_1935.jpg',\n",
       " 'https://en.wikipedia.org/wiki/File:Walt_Disney_Snow_white_1937_trailer_screenshot_(13).jpg',\n",
       " 'https://en.wikipedia.org/wiki/File:Disney_drawing_goofy.jpg',\n",
       " 'https://en.wikipedia.org/wiki/File:DisneySchiphol1951.jpg',\n",
       " 'https://en.wikipedia.org/wiki/File:WaltDisneyplansDisneylandDec1954.jpg',\n",
       " 'https://en.wikipedia.org/wiki/File:Walt_disney_portrait_right.jpg',\n",
       " 'https://en.wikipedia.org/wiki/File:Walt_Disney_Grave.JPG',\n",
       " 'https://en.wikipedia.org/wiki/File:Roy_O._Disney_with_Company_at_Press_Conference.jpg',\n",
       " 'https://en.wikipedia.org/wiki/File:Disney_Display_Case.JPG',\n",
       " 'https://en.wikipedia.org/wiki/File:Disney1968.jpg',\n",
       " 'https://en.wikipedia.org/wiki/File:Disneyland_Resort_logo.svg',\n",
       " 'https://en.wikipedia.org/wiki/File:Animation_disc.svg',\n",
       " 'https://en.wikipedia.org/wiki/File:P_vip.svg',\n",
       " 'https://en.wikipedia.org/wiki/File:Magic_Kingdom_castle.jpg',\n",
       " 'https://en.wikipedia.org/wiki/File:Video-x-generic.svg',\n",
       " 'https://en.wikipedia.org/wiki/File:Flag_of_Los_Angeles_County,_California.svg',\n",
       " 'https://en.wikipedia.org/wiki/File:Blank_television_set.svg',\n",
       " 'https://en.wikipedia.org/wiki/File:Flag_of_the_United_States.svg']"
      ]
     },
     "execution_count": 13,
     "metadata": {},
     "output_type": "execute_result"
    }
   ],
   "source": [
    "#your code\n",
    "html = requests.get(url)\n",
    "soup = BeautifulSoup(html.content, 'html.parser')\n",
    "\n",
    "linktags = soup.find_all('a', {'class': 'image'})\n",
    "\n",
    "links = [link.get('href') for link in linktags]\n",
    "\n",
    "\n",
    "url_wiki = 'https://en.wikipedia.org'\n",
    "\n",
    "full_links = [url_wiki + k for k in links]\n",
    "full_links"
   ]
  },
  {
   "cell_type": "markdown",
   "metadata": {},
   "source": [
    "#### Retrieve an arbitary Wikipedia page of \"Python\" and create a list of links on that page"
   ]
  },
  {
   "cell_type": "code",
   "execution_count": null,
   "metadata": {},
   "outputs": [],
   "source": [
    "# This is the url you will scrape in this exercise\n",
    "url ='https://en.wikipedia.org/wiki/Python'"
   ]
  },
  {
   "cell_type": "code",
   "execution_count": null,
   "metadata": {},
   "outputs": [],
   "source": [
    "#your code\n"
   ]
  },
  {
   "cell_type": "code",
   "execution_count": null,
   "metadata": {},
   "outputs": [],
   "source": []
  },
  {
   "cell_type": "markdown",
   "metadata": {},
   "source": [
    "#### Number of Titles that have changed in the United States Code since its last release point "
   ]
  },
  {
   "cell_type": "code",
   "execution_count": 14,
   "metadata": {},
   "outputs": [
    {
     "name": "stdout",
     "output_type": "stream",
     "text": [
      "Number of titles:  54\n"
     ]
    }
   ],
   "source": [
    "# This is the url you will scrape in this exercise\n",
    "url = 'http://uscode.house.gov/download/download.shtml'\n",
    "\n",
    "html = requests.get(url)\n",
    "soup = BeautifulSoup(html.content, 'html.parser')\n",
    "\n",
    "titulos = soup.find_all('div',{'class':'usctitle'})\n",
    "len(titulos)\n",
    "t = []\n",
    "for i in titulos:\n",
    "    t.append(i.getText())\n",
    "\n",
    "lista = t[1:]\n",
    "print('Number of titles: ', len(lista))  # len -1 because of 'All titles in the format selected compressed into a zip archive.' is also a usctitle\n"
   ]
  },
  {
   "cell_type": "code",
   "execution_count": null,
   "metadata": {},
   "outputs": [],
   "source": [
    "#your code\n"
   ]
  },
  {
   "cell_type": "code",
   "execution_count": null,
   "metadata": {},
   "outputs": [],
   "source": []
  },
  {
   "cell_type": "markdown",
   "metadata": {},
   "source": [
    "####  20 latest earthquakes info (date, time, latitude, longitude and region name) by the EMSC as a pandas dataframe"
   ]
  },
  {
   "cell_type": "code",
   "execution_count": 15,
   "metadata": {},
   "outputs": [],
   "source": [
    "# This is the url you will scrape in this exercise\n",
    "url = 'https://www.emsc-csem.org/Earthquake/'"
   ]
  },
  {
   "cell_type": "code",
   "execution_count": 20,
   "metadata": {},
   "outputs": [
    {
     "data": {
      "text/plain": [
       "'2021-05-2423:28:37.012min ago'"
      ]
     },
     "execution_count": 20,
     "metadata": {},
     "output_type": "execute_result"
    }
   ],
   "source": [
    "#your code\n",
    "html = requests.get(url)\n",
    "soup = BeautifulSoup(html.content, 'html.parser')\n",
    "\n",
    "tiempo = soup.find_all('td', {'class':'tabev6'})\n",
    "lugar = soup.find_all('td', {'class':'tb_region'})\n",
    "\n",
    "fechas = []\n",
    "for i in tiempo:\n",
    "    fechas.append(i.getText())\n",
    "    \n",
    "sitios = []\n",
    "for x in lugar:\n",
    "    sitios.append(x.getText())\n",
    "\n",
    "    \n",
    "d = fechas[0].replace('earthquake','').replace('\\xa0\\xa0\\xa0','').replace('\\xa0','')\n",
    "d\n",
    "\n"
   ]
  },
  {
   "cell_type": "code",
   "execution_count": null,
   "metadata": {},
   "outputs": [],
   "source": []
  },
  {
   "cell_type": "markdown",
   "metadata": {},
   "source": [
    "#### Display the date, days, title, city, country of next 25 hackathon events as a Pandas dataframe table"
   ]
  },
  {
   "cell_type": "code",
   "execution_count": null,
   "metadata": {},
   "outputs": [],
   "source": [
    "# This is the url you will scrape in this exercise\n",
    "url ='https://hackevents.co/hackathons'\n",
    "url_hack = 'https://hackevents.co/search/anything/anywhere/anytime' "
   ]
  },
  {
   "cell_type": "code",
   "execution_count": null,
   "metadata": {},
   "outputs": [],
   "source": [
    "#your code\n"
   ]
  },
  {
   "cell_type": "code",
   "execution_count": null,
   "metadata": {},
   "outputs": [],
   "source": []
  },
  {
   "cell_type": "markdown",
   "metadata": {},
   "source": [
    "#### List all language names and number of related articles in the order they appear in wikipedia.org"
   ]
  },
  {
   "cell_type": "code",
   "execution_count": null,
   "metadata": {},
   "outputs": [],
   "source": [
    "# This is the url you will scrape in this exercise\n",
    "url = 'https://www.wikipedia.org/'"
   ]
  },
  {
   "cell_type": "code",
   "execution_count": null,
   "metadata": {},
   "outputs": [],
   "source": [
    "#your code\n"
   ]
  },
  {
   "cell_type": "code",
   "execution_count": null,
   "metadata": {},
   "outputs": [],
   "source": []
  },
  {
   "cell_type": "markdown",
   "metadata": {},
   "source": [
    "#### A list with the different kind of datasets available in data.gov.uk "
   ]
  },
  {
   "cell_type": "code",
   "execution_count": null,
   "metadata": {},
   "outputs": [],
   "source": [
    "# This is the url you will scrape in this exercise\n",
    "url = 'https://data.gov.uk/'"
   ]
  },
  {
   "cell_type": "code",
   "execution_count": null,
   "metadata": {},
   "outputs": [],
   "source": [
    "#your code \n"
   ]
  },
  {
   "cell_type": "code",
   "execution_count": null,
   "metadata": {},
   "outputs": [],
   "source": []
  },
  {
   "cell_type": "markdown",
   "metadata": {},
   "source": [
    "#### Top 10 languages by number of native speakers stored in a Pandas Dataframe"
   ]
  },
  {
   "cell_type": "code",
   "execution_count": null,
   "metadata": {},
   "outputs": [],
   "source": [
    "# This is the url you will scrape in this exercise\n",
    "url = 'https://en.wikipedia.org/wiki/List_of_languages_by_number_of_native_speakers'"
   ]
  },
  {
   "cell_type": "code",
   "execution_count": null,
   "metadata": {},
   "outputs": [],
   "source": [
    "#your code\n"
   ]
  },
  {
   "cell_type": "code",
   "execution_count": null,
   "metadata": {},
   "outputs": [],
   "source": []
  },
  {
   "cell_type": "markdown",
   "metadata": {},
   "source": [
    "### BONUS QUESTIONS"
   ]
  },
  {
   "cell_type": "markdown",
   "metadata": {},
   "source": [
    "#### IMDB's Top 250 data (movie name, Initial release, director name and stars) as a pandas dataframe"
   ]
  },
  {
   "cell_type": "code",
   "execution_count": null,
   "metadata": {},
   "outputs": [],
   "source": [
    "# This is the url you will scrape in this exercise \n",
    "url = 'https://www.imdb.com/chart/top'"
   ]
  },
  {
   "cell_type": "code",
   "execution_count": null,
   "metadata": {},
   "outputs": [],
   "source": [
    "# your code\n"
   ]
  },
  {
   "cell_type": "code",
   "execution_count": null,
   "metadata": {},
   "outputs": [],
   "source": []
  },
  {
   "cell_type": "code",
   "execution_count": null,
   "metadata": {},
   "outputs": [],
   "source": []
  }
 ],
 "metadata": {
  "kernelspec": {
   "display_name": "Python 3",
   "language": "python",
   "name": "python3"
  },
  "language_info": {
   "codemirror_mode": {
    "name": "ipython",
    "version": 3
   },
   "file_extension": ".py",
   "mimetype": "text/x-python",
   "name": "python",
   "nbconvert_exporter": "python",
   "pygments_lexer": "ipython3",
   "version": "3.9.1"
  },
  "toc": {
   "base_numbering": 1,
   "nav_menu": {},
   "number_sections": false,
   "sideBar": true,
   "skip_h1_title": false,
   "title_cell": "Table of Contents",
   "title_sidebar": "Contents",
   "toc_cell": false,
   "toc_position": {
    "height": "calc(100% - 180px)",
    "left": "10px",
    "top": "150px",
    "width": "288px"
   },
   "toc_section_display": true,
   "toc_window_display": false
  }
 },
 "nbformat": 4,
 "nbformat_minor": 2
}
